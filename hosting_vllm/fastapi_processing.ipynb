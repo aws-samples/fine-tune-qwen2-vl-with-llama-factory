{
 "cells": [
  {
   "cell_type": "code",
   "execution_count": 5,
   "id": "d681b00a-e443-465c-8a22-9def7b7620df",
   "metadata": {
    "tags": []
   },
   "outputs": [
    {
     "name": "stdout",
     "output_type": "stream",
     "text": [
      "Overwriting fastapi_processing.py\n"
     ]
    }
   ],
   "source": [
    "%%writefile fastapi_processing.py\n",
    "from fastapi import FastAPI, HTTPException\n",
    "from openai import OpenAI\n",
    "from openai import AsyncOpenAI  # Note the AsyncOpenAI import\n",
    "\n",
    "from pydantic import BaseModel\n",
    "from typing import Optional, List, Dict, Any\n",
    "import uvicorn\n",
    "\n",
    "app = FastAPI()\n",
    "\n",
    "# vLLM client configuration\n",
    "VLLM_CLIENT = AsyncOpenAI(\n",
    "    api_key=\"EMPTY\",\n",
    "    base_url=\"http://localhost:8000/v1\"\n",
    ")\n",
    "\n",
    "class GenerateRequest(BaseModel):\n",
    "    messages: List[Dict[str, Any]]\n",
    "    max_tokens: Optional[int] = 1024\n",
    "\n",
    "@app.post(\"/v1/generateText\")\n",
    "async def generate_text(request: GenerateRequest):\n",
    "    print(\"Received request\")\n",
    "    try:\n",
    "        # Use await with the async client\n",
    "        response = await VLLM_CLIENT.chat.completions.create(\n",
    "            model=\"Qwen/Qwen2-VL-7B-Instruct-GPTQ-Int4\",\n",
    "            messages=request.messages,\n",
    "            max_tokens=request.max_tokens\n",
    "        )\n",
    "        return response.choices[0].message.content\n",
    "    \n",
    "    except Exception as e:\n",
    "        raise HTTPException(status_code=500, detail=f\"Error: {str(e)}\")\n",
    "    \n",
    "    except Exception as e:\n",
    "        raise HTTPException(status_code=500, detail=f\"Error: {str(e)}\")\n",
    "\n",
    "@app.get(\"/health\")\n",
    "async def health_check():\n",
    "    return {\"status\": \"healthy\"}"
   ]
  },
  {
   "cell_type": "code",
   "execution_count": 6,
   "id": "c5700d6e-9842-4012-b210-af3cae81ec3f",
   "metadata": {
    "tags": []
   },
   "outputs": [
    {
     "name": "stdout",
     "output_type": "stream",
     "text": [
      "\u001b[32mINFO\u001b[0m:     Started server process [\u001b[36m20157\u001b[0m]\n",
      "\u001b[32mINFO\u001b[0m:     Waiting for application startup.\n",
      "\u001b[32mINFO\u001b[0m:     Application startup complete.\n",
      "\u001b[32mINFO\u001b[0m:     Uvicorn running on \u001b[1mhttp://0.0.0.0:8001\u001b[0m (Press CTRL+C to quit)\n",
      "Received request\n",
      "\u001b[32mINFO\u001b[0m:     127.0.0.1:57742 - \"\u001b[1mPOST /v1/generateText HTTP/1.1\u001b[0m\" \u001b[32m200 OK\u001b[0m\n",
      "Received request\n",
      "Received request\n",
      "Received request\n",
      "Received request\n",
      "\u001b[32mINFO\u001b[0m:     127.0.0.1:40166 - \"\u001b[1mPOST /v1/generateText HTTP/1.1\u001b[0m\" \u001b[32m200 OK\u001b[0m\n",
      "Received request\n",
      "\u001b[32mINFO\u001b[0m:     127.0.0.1:40168 - \"\u001b[1mPOST /v1/generateText HTTP/1.1\u001b[0m\" \u001b[32m200 OK\u001b[0m\n",
      "\u001b[32mINFO\u001b[0m:     127.0.0.1:40190 - \"\u001b[1mPOST /v1/generateText HTTP/1.1\u001b[0m\" \u001b[32m200 OK\u001b[0m\n",
      "\u001b[32mINFO\u001b[0m:     127.0.0.1:40174 - \"\u001b[1mPOST /v1/generateText HTTP/1.1\u001b[0m\" \u001b[32m200 OK\u001b[0m\n",
      "Received request\n",
      "Received request\n",
      "Received request\n",
      "\u001b[32mINFO\u001b[0m:     127.0.0.1:53506 - \"\u001b[1mPOST /v1/generateText HTTP/1.1\u001b[0m\" \u001b[32m200 OK\u001b[0m\n",
      "Received request\n",
      "\u001b[32mINFO\u001b[0m:     127.0.0.1:52176 - \"\u001b[1mPOST /v1/generateText HTTP/1.1\u001b[0m\" \u001b[32m200 OK\u001b[0m\n",
      "\u001b[32mINFO\u001b[0m:     127.0.0.1:52178 - \"\u001b[1mPOST /v1/generateText HTTP/1.1\u001b[0m\" \u001b[32m200 OK\u001b[0m\n",
      "\u001b[32mINFO\u001b[0m:     127.0.0.1:52162 - \"\u001b[1mPOST /v1/generateText HTTP/1.1\u001b[0m\" \u001b[32m200 OK\u001b[0m\n",
      "Received request\n",
      "Received request\n",
      "Received request\n",
      "\u001b[32mINFO\u001b[0m:     127.0.0.1:44724 - \"\u001b[1mPOST /v1/generateText HTTP/1.1\u001b[0m\" \u001b[32m200 OK\u001b[0m\n",
      "Received request\n",
      "\u001b[32mINFO\u001b[0m:     127.0.0.1:52758 - \"\u001b[1mPOST /v1/generateText HTTP/1.1\u001b[0m\" \u001b[32m200 OK\u001b[0m\n",
      "^C\n",
      "\u001b[32mINFO\u001b[0m:     Shutting down\n",
      "\u001b[32mINFO\u001b[0m:     Waiting for connections to close. (CTRL+C to force quit)\n"
     ]
    }
   ],
   "source": [
    "!uvicorn fastapi_processing:app --host 0.0.0.0 --port 8001"
   ]
  },
  {
   "cell_type": "code",
   "execution_count": null,
   "id": "785d58c6-2f75-4045-8d53-0ed6e56f9378",
   "metadata": {},
   "outputs": [],
   "source": []
  },
  {
   "cell_type": "code",
   "execution_count": null,
   "id": "bbf69347-d7b5-4742-9dc8-7a943fdd607e",
   "metadata": {
    "tags": []
   },
   "outputs": [],
   "source": []
  }
 ],
 "metadata": {
  "kernelspec": {
   "display_name": "conda_pytorch_p310",
   "language": "python",
   "name": "conda_pytorch_p310"
  },
  "language_info": {
   "codemirror_mode": {
    "name": "ipython",
    "version": 3
   },
   "file_extension": ".py",
   "mimetype": "text/x-python",
   "name": "python",
   "nbconvert_exporter": "python",
   "pygments_lexer": "ipython3",
   "version": "3.10.14"
  }
 },
 "nbformat": 4,
 "nbformat_minor": 5
}
